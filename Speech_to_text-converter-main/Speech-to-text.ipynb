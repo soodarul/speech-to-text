{
 "cells": [
  {
   "cell_type": "code",
   "execution_count": 1,
   "id": "383fbed1",
   "metadata": {},
   "outputs": [],
   "source": [
    "import speech_recognition as sr\n",
    "import pyttsx3"
   ]
  },
  {
   "cell_type": "code",
   "execution_count": 2,
   "id": "9b8b30c5",
   "metadata": {},
   "outputs": [],
   "source": [
    "r=sr.Recognizer()\n",
    "def SpeakText(command):\n",
    "    engine=pyttsx3.init()\n",
    "    engine.say(command)\n",
    "    engine.runAndWait()\n"
   ]
  },
  {
   "cell_type": "code",
   "execution_count": 19,
   "id": "24c8a311",
   "metadata": {},
   "outputs": [
    {
     "name": "stdout",
     "output_type": "stream",
     "text": [
      "Caliberating background noise please be quiet\n",
      "Caliberated now speak\n",
      "You said : my name is Shailendra\n"
     ]
    }
   ],
   "source": [
    "with sr.Microphone() as source2:\n",
    "    try:\n",
    "        print(\"Caliberating background noise please be quiet\")\n",
    "        r.adjust_for_ambient_noise(source2,duration=2)\n",
    "        print(\"Caliberated now speak\")\n",
    "        audio2=r.listen(source2)\n",
    "        text = r.recognize_google(audio)\n",
    "        print(\"You said : {}\".format(text))\n",
    "        text = r.recognize_google(audio)\n",
    "    except:\n",
    "        print(\"Sorry could not recognize your voice\")"
   ]
  },
  {
   "cell_type": "code",
   "execution_count": 4,
   "id": "9d69246b",
   "metadata": {},
   "outputs": [
    {
     "name": "stdout",
     "output_type": "stream",
     "text": [
      "start speaking\n",
      "Tumhari Man ka bhosda\n"
     ]
    }
   ],
   "source": [
    "r = sr.Recognizer()\n",
    "\n",
    "with sr.Microphone() as source:\n",
    "        r.adjust_for_ambient_noise(source=source)\n",
    "        audio = r.listen(source,timeout=6)\n",
    "        print(\"start speaking\")\n",
    "        data = ''\n",
    "        try :\n",
    "            data = r.recognize_google(audio)\n",
    "            print(data)\n",
    "\n",
    "        except sr.UnknownValueError:\n",
    "            print(\" Error\")\n",
    "        \n",
    "        except sr.RequestError as e:\n",
    "            print(\"Request Error\")"
   ]
  },
  {
   "cell_type": "code",
   "execution_count": null,
   "id": "37f2d050",
   "metadata": {},
   "outputs": [],
   "source": []
  },
  {
   "cell_type": "code",
   "execution_count": null,
   "id": "b8d12e1f",
   "metadata": {},
   "outputs": [],
   "source": []
  }
 ],
 "metadata": {
  "kernelspec": {
   "display_name": "Python 3 (ipykernel)",
   "language": "python",
   "name": "python3"
  },
  "language_info": {
   "codemirror_mode": {
    "name": "ipython",
    "version": 3
   },
   "file_extension": ".py",
   "mimetype": "text/x-python",
   "name": "python",
   "nbconvert_exporter": "python",
   "pygments_lexer": "ipython3",
   "version": "3.7.11"
  }
 },
 "nbformat": 4,
 "nbformat_minor": 5
}
